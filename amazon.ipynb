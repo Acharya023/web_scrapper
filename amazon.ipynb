{
 "cells": [
  {
   "cell_type": "code",
   "execution_count": 15,
   "id": "4e4eae15-fa2d-4d1b-9389-9a75f6249753",
   "metadata": {},
   "outputs": [],
   "source": [
    "import requests\n",
    "from bs4 import BeautifulSoup\n",
    "import pandas as pd\n",
    "import webbrowser"
   ]
  },
  {
   "cell_type": "code",
   "execution_count": 16,
   "id": "cc559da2-6cbd-4c02-a900-09791b5408cf",
   "metadata": {},
   "outputs": [],
   "source": [
    "baseurl = \"https://www.amazon.in/\"\n",
    "headers = {'User-Agent': 'https://developers.whatismybrowser.com/useragents/parse/?analyse-my-user-agent=yes'}"
   ]
  },
  {
   "cell_type": "code",
   "execution_count": 17,
   "id": "d9c436fa-3840-44ff-9557-59443dcc2733",
   "metadata": {},
   "outputs": [],
   "source": [
    "k = requests.get('https://www.amazon.in/s?k=keyboard&crid=309P6O4N3SM5C&sprefix=keyboar%2Caps%2C272&ref=nb_sb_noss_2', headers=headers)\n",
    "content = k.content\n",
    "soup = BeautifulSoup(content)\n",
    "productlist = soup.find_all(\"div\",{\"class\":\"s-result-item s-asin sg-col-0-of-12 sg-col-16-of-20 AdHolder sg-col s-widget-spacing-small sg-col-12-of-16\"})       \n",
    "productlist2 = soup.find_all(\"div\",{\"class\":\"s-result-item s-asin sg-col-0-of-12 sg-col-16-of-20 sg-col s-widget-spacing-small sg-col-12-of-16\"})"
   ]
  },
  {
   "cell_type": "code",
   "execution_count": 18,
   "id": "ce7892df-9f63-4966-a6ef-ce48936ee0fb",
   "metadata": {},
   "outputs": [],
   "source": [
    "productlinks = []\n",
    "for product in productlist:\n",
    "    link = product.find(\"a\",{\"class\":\"a-link-normal s-underline-text s-underline-link-text s-link-style a-text-normal\"}).get('href')\n",
    "    productlinks.append(baseurl+link)\n",
    "for product in productlist2:\n",
    "    link = product.find(\"a\",{\"class\":\"a-link-normal s-underline-text s-underline-link-text s-link-style a-text-normal\"}).get('href')\n",
    "    productlinks.append(baseurl+link)"
   ]
  },
  {
   "cell_type": "code",
   "execution_count": 19,
   "id": "13f772c2-c769-4474-8135-13c49c093953",
   "metadata": {},
   "outputs": [
    {
     "data": {
      "text/plain": [
       "[{'name': None,\n",
       "  'price': '1,195.',\n",
       "  'rating': '4.1 out of 5',\n",
       "  'delivery': 'Tuesday, 8 November',\n",
       "  'link': 'https://www.amazon.in//sspa/click?ie=UTF8&spc=MTo0NzcxNjg2NzczMDg3MzI5OjE2Njc2NjU2MTA6c3BfYXRmOjIwMDcwOTE0Mzg2MzA1OjowOjo&sp_csd=d2lkZ2V0TmFtZT1zcF9hdGY&url=%2FLogitech-MK215-Wireless-Keyboard-Mouse%2Fdp%2FB012MQS060%2Fref%3Dsr_1_1_sspa%3Fcrid%3D309P6O4N3SM5C%26keywords%3Dkeyboard%26qid%3D1667665610%26qu%3DeyJxc2MiOiI1LjU1IiwicXNhIjoiNC43NiIsInFzcCI6IjMuODEifQ%253D%253D%26sprefix%3Dkeyboar%252Caps%252C272%26sr%3D8-1-spons%26psc%3D1'},\n",
       " {'name': None,\n",
       "  'price': '849.',\n",
       "  'rating': '3.9 out of 5',\n",
       "  'delivery': 'Thursday, 10 November',\n",
       "  'link': 'https://www.amazon.in//sspa/click?ie=UTF8&spc=MTo0NzcxNjg2NzczMDg3MzI5OjE2Njc2NjU2MTA6c3BfYXRmOjIwMDc4NTYxNzc1NDk4OjowOjo&sp_csd=d2lkZ2V0TmFtZT1zcF9hdGY&url=%2FKeyboard-Multicolor-Backlight-Multimedia-Aluminum%2Fdp%2FB09SN34HZ7%2Fref%3Dsr_1_2_sspa%3Fcrid%3D309P6O4N3SM5C%26keywords%3Dkeyboard%26qid%3D1667665610%26qu%3DeyJxc2MiOiI1LjU1IiwicXNhIjoiNC43NiIsInFzcCI6IjMuODEifQ%253D%253D%26sprefix%3Dkeyboar%252Caps%252C272%26sr%3D8-2-spons%26psc%3D1'},\n",
       " {'name': None,\n",
       "  'price': '4,299.',\n",
       "  'rating': '4.3 out of 5',\n",
       "  'delivery': 'Wednesday, 9 November',\n",
       "  'link': 'https://www.amazon.in//sspa/click?ie=UTF8&spc=MTo0NzcxNjg2NzczMDg3MzI5OjE2Njc2NjU2MTA6c3BfbXRmOjIwMDQ0NjEzOTQ2Nzk4OjowOjo&sp_csd=d2lkZ2V0TmFtZT1zcF9tdGY&url=%2FHUO-JI-Typewriter-Mechanical-Swappable%2Fdp%2FB09DY31WMP%2Fref%3Dsr_1_11_sspa%3Fcrid%3D309P6O4N3SM5C%26keywords%3Dkeyboard%26qid%3D1667665610%26qu%3DeyJxc2MiOiI1LjU1IiwicXNhIjoiNC43NiIsInFzcCI6IjMuODEifQ%253D%253D%26sprefix%3Dkeyboar%252Caps%252C272%26sr%3D8-11-spons%26psc%3D1'},\n",
       " {'name': None,\n",
       "  'price': '1,690.',\n",
       "  'rating': '4.3 out of 5',\n",
       "  'delivery': 'Monday, 7 November',\n",
       "  'link': 'https://www.amazon.in//sspa/click?ie=UTF8&spc=MTo0NzcxNjg2NzczMDg3MzI5OjE2Njc2NjU2MTA6c3BfbXRmOjIwMDYzMjQwOTMwODk4OjowOjo&sp_csd=d2lkZ2V0TmFtZT1zcF9tdGY&url=%2FOffbeat-Bluetooth-Typewriter-Compatible-Tablet-Dark%2Fdp%2FB09SXTDD77%2Fref%3Dsr_1_12_sspa%3Fcrid%3D309P6O4N3SM5C%26keywords%3Dkeyboard%26qid%3D1667665610%26qu%3DeyJxc2MiOiI1LjU1IiwicXNhIjoiNC43NiIsInFzcCI6IjMuODEifQ%253D%253D%26sprefix%3Dkeyboar%252Caps%252C272%26sr%3D8-12-spons%26psc%3D1'},\n",
       " {'name': None,\n",
       "  'price': '549.',\n",
       "  'rating': '4.5 out of 5',\n",
       "  'delivery': 'Monday, 7 November',\n",
       "  'link': 'https://www.amazon.in//sspa/click?ie=UTF8&spc=MTo0NzcxNjg2NzczMDg3MzI5OjE2Njc2NjU2MTA6c3BfYnRmOjIwMDY2MTM2Njg5Njk4OjowOjo&sp_csd=d2lkZ2V0TmFtZT1zcF9idGY&url=%2FAmazon-Keyboard-Windows-Interface-Computer%2Fdp%2FB09SPQ4ZWT%2Fref%3Dsr_1_21_sspa%3Fcrid%3D309P6O4N3SM5C%26keywords%3Dkeyboard%26qid%3D1667665610%26qu%3DeyJxc2MiOiI1LjU1IiwicXNhIjoiNC43NiIsInFzcCI6IjMuODEifQ%253D%253D%26sprefix%3Dkeyboar%252Caps%252C272%26sr%3D8-21-spons%26psc%3D1'},\n",
       " {'name': None,\n",
       "  'price': '2,750.',\n",
       "  'rating': '4.2 out of 5',\n",
       "  'delivery': 'Wednesday, 9 November',\n",
       "  'link': 'https://www.amazon.in//sspa/click?ie=UTF8&spc=MTo0NzcxNjg2NzczMDg3MzI5OjE2Njc2NjU2MTA6c3BfYnRmOjIwMDE4NTU1NzEyNDk4OjowOjo&sp_csd=d2lkZ2V0TmFtZT1zcF9idGY&url=%2FGEAR-Typewriter-Inspired-Wireless-Keyboard%2Fdp%2FB08XQ89VFP%2Fref%3Dsr_1_22_sspa%3Fcrid%3D309P6O4N3SM5C%26keywords%3Dkeyboard%26qid%3D1667665610%26qu%3DeyJxc2MiOiI1LjU1IiwicXNhIjoiNC43NiIsInFzcCI6IjMuODEifQ%253D%253D%26sprefix%3Dkeyboar%252Caps%252C272%26sr%3D8-22-spons%26psc%3D1%26smid%3DA2LPYS6TUD99YN'},\n",
       " {'name': None,\n",
       "  'price': '549.',\n",
       "  'rating': '4.3 out of 5',\n",
       "  'delivery': 'Tuesday, 8 November',\n",
       "  'link': 'https://www.amazon.in//Dell-KB216-Wired-Multimedia-Keyboard/dp/B00ZYLMQH0/ref=sr_1_3?crid=309P6O4N3SM5C&keywords=keyboard&qid=1667665610&qu=eyJxc2MiOiI1LjU1IiwicXNhIjoiNC43NiIsInFzcCI6IjMuODEifQ%3D%3D&sprefix=keyboar%2Caps%2C272&sr=8-3'},\n",
       " {'name': None,\n",
       "  'price': '329.',\n",
       "  'rating': '3.6 out of 5',\n",
       "  'delivery': 'Monday, 7 November',\n",
       "  'link': 'https://www.amazon.in//Zebronics-Km2100-Multimedia-USB-Keyboard/dp/B077T3BG5L/ref=sr_1_4?crid=309P6O4N3SM5C&keywords=keyboard&qid=1667665610&qu=eyJxc2MiOiI1LjU1IiwicXNhIjoiNC43NiIsInFzcCI6IjMuODEifQ%3D%3D&sprefix=keyboar%2Caps%2C272&sr=8-4'},\n",
       " {'name': None,\n",
       "  'price': '448.',\n",
       "  'rating': '3.9 out of 5',\n",
       "  'delivery': 'Monday, 7 November',\n",
       "  'link': 'https://www.amazon.in//Zebronics-Zeb-JUDWAA-750-Wired-Keyboard/dp/B07KR5P3YD/ref=sr_1_5?crid=309P6O4N3SM5C&keywords=keyboard&qid=1667665610&qu=eyJxc2MiOiI1LjU1IiwicXNhIjoiNC43NiIsInFzcCI6IjMuODEifQ%3D%3D&sprefix=keyboar%2Caps%2C272&sr=8-5'},\n",
       " {'name': None,\n",
       "  'price': '1,329.',\n",
       "  'rating': '4.3 out of 5',\n",
       "  'delivery': 'Monday, 7 November',\n",
       "  'link': 'https://www.amazon.in//Zebronics-Transformer-Gaming-Multimedia-Keyboard/dp/B07BRKK9JQ/ref=sr_1_6?crid=309P6O4N3SM5C&keywords=keyboard&qid=1667665610&qu=eyJxc2MiOiI1LjU1IiwicXNhIjoiNC43NiIsInFzcCI6IjMuODEifQ%3D%3D&sprefix=keyboar%2Caps%2C272&sr=8-6'},\n",
       " {'name': None,\n",
       "  'price': '1,399.',\n",
       "  'rating': '4 out of 5',\n",
       "  'delivery': 'Monday, 7 November',\n",
       "  'link': 'https://www.amazon.in//HP-Multimedia-Wireless-Keyboard-4SC12PA/dp/B07V82W5CN/ref=sr_1_7?crid=309P6O4N3SM5C&keywords=keyboard&qid=1667665610&qu=eyJxc2MiOiI1LjU1IiwicXNhIjoiNC43NiIsInFzcCI6IjMuODEifQ%3D%3D&sprefix=keyboar%2Caps%2C272&sr=8-7'},\n",
       " {'name': None,\n",
       "  'price': '899.',\n",
       "  'rating': '4.3 out of 5',\n",
       "  'delivery': 'Thursday, 10 November',\n",
       "  'link': 'https://www.amazon.in//Redgear-Blaze-backlit-keyboard-aluminium/dp/B073QQR2H2/ref=sr_1_8?crid=309P6O4N3SM5C&keywords=keyboard&qid=1667665610&qu=eyJxc2MiOiI1LjU1IiwicXNhIjoiNC43NiIsInFzcCI6IjMuODEifQ%3D%3D&sprefix=keyboar%2Caps%2C272&sr=8-8'},\n",
       " {'name': None,\n",
       "  'price': '372.',\n",
       "  'rating': '3.8 out of 5',\n",
       "  'delivery': 'Monday, 7 November',\n",
       "  'link': 'https://www.amazon.in//Quantum-QHM-7406-Spill-Resistant-Wired-Keyboard/dp/B08CF4SCNP/ref=sr_1_9?crid=309P6O4N3SM5C&keywords=keyboard&qid=1667665610&qu=eyJxc2MiOiI1LjU1IiwicXNhIjoiNC43NiIsInFzcCI6IjMuODEifQ%3D%3D&sprefix=keyboar%2Caps%2C272&sr=8-9'},\n",
       " {'name': None,\n",
       "  'price': '1,149.',\n",
       "  'rating': '4.3 out of 5',\n",
       "  'delivery': 'Monday, 7 November',\n",
       "  'link': 'https://www.amazon.in//HP-K500F-Gaming-Keyboard-7ZZ97AA/dp/B08498D67S/ref=sr_1_10?crid=309P6O4N3SM5C&keywords=keyboard&qid=1667665610&qu=eyJxc2MiOiI1LjU1IiwicXNhIjoiNC43NiIsInFzcCI6IjMuODEifQ%3D%3D&sprefix=keyboar%2Caps%2C272&sr=8-10'},\n",
       " {'name': None,\n",
       "  'price': '799.',\n",
       "  'rating': '4.2 out of 5',\n",
       "  'delivery': 'Monday, 7 November',\n",
       "  'link': 'https://www.amazon.in//Zebronics-Zeb-War-Gaming-Keyboard-Mouse/dp/B0814Z58YM/ref=sr_1_13?crid=309P6O4N3SM5C&keywords=keyboard&qid=1667665610&qu=eyJxc2MiOiI1LjU1IiwicXNhIjoiNC43NiIsInFzcCI6IjMuODEifQ%3D%3D&sprefix=keyboar%2Caps%2C272&sr=8-13'},\n",
       " {'name': None,\n",
       "  'price': '549.',\n",
       "  'rating': '4 out of 5',\n",
       "  'delivery': 'Monday, 7 November',\n",
       "  'link': 'https://www.amazon.in//Zebronics-DLK01-Multimedia-Keyboard-White/dp/B07RT67LV1/ref=sr_1_14?crid=309P6O4N3SM5C&keywords=keyboard&qid=1667665610&qu=eyJxc2MiOiI1LjU1IiwicXNhIjoiNC43NiIsInFzcCI6IjMuODEifQ%3D%3D&sprefix=keyboar%2Caps%2C272&sr=8-14'},\n",
       " {'name': None,\n",
       "  'price': '2,649.',\n",
       "  'rating': '4.6 out of 5',\n",
       "  'delivery': 'Wednesday, 9 November',\n",
       "  'link': 'https://www.amazon.in//Redragon-K617-Keyboard-Mechanical-Supported/dp/B09BVCVTBC/ref=sr_1_15?crid=309P6O4N3SM5C&keywords=keyboard&qid=1667665610&qu=eyJxc2MiOiI1LjU1IiwicXNhIjoiNC43NiIsInFzcCI6IjMuODEifQ%3D%3D&sprefix=keyboar%2Caps%2C272&sr=8-15'},\n",
       " {'name': None,\n",
       "  'price': '2,595.',\n",
       "  'rating': '4.4 out of 5',\n",
       "  'delivery': 'Monday, 7 November',\n",
       "  'link': 'https://www.amazon.in//Logitech-Multi-Device-Bluetooth-Keyboard-Black/dp/B00MUTWLW4/ref=sr_1_16?crid=309P6O4N3SM5C&keywords=keyboard&qid=1667665610&qu=eyJxc2MiOiI1LjU1IiwicXNhIjoiNC43NiIsInFzcCI6IjMuODEifQ%3D%3D&sprefix=keyboar%2Caps%2C272&sr=8-16'},\n",
       " {'name': None,\n",
       "  'price': '1,097.',\n",
       "  'rating': '4.2 out of 5',\n",
       "  'delivery': 'Monday, 7 November',\n",
       "  'link': 'https://www.amazon.in//Zebronics-Zeb-Transformer-k-Gaming-Keyboard-Multicolor/dp/B0819JFQJH/ref=sr_1_17?crid=309P6O4N3SM5C&keywords=keyboard&qid=1667665610&qu=eyJxc2MiOiI1LjU1IiwicXNhIjoiNC43NiIsInFzcCI6IjMuODEifQ%3D%3D&sprefix=keyboar%2Caps%2C272&sr=8-17'},\n",
       " {'name': None,\n",
       "  'price': '549.',\n",
       "  'rating': '4.5 out of 5',\n",
       "  'delivery': 'Monday, 7 November',\n",
       "  'link': 'https://www.amazon.in//Amazon-Keyboard-Windows-Interface-Computer/dp/B09SPQ4ZWT/ref=sr_1_18?crid=309P6O4N3SM5C&keywords=keyboard&qid=1667665610&qu=eyJxc2MiOiI1LjU1IiwicXNhIjoiNC43NiIsInFzcCI6IjMuODEifQ%3D%3D&sprefix=keyboar%2Caps%2C272&sr=8-18'},\n",
       " {'name': None,\n",
       "  'price': '2,994.',\n",
       "  'rating': '4.5 out of 5',\n",
       "  'delivery': 'Monday, 7 November',\n",
       "  'link': 'https://www.amazon.in//Logitech-920-007596-Multi-Device-Bluetooth-Keyboard/dp/B0148NPH9I/ref=sr_1_19?crid=309P6O4N3SM5C&keywords=keyboard&qid=1667665610&qu=eyJxc2MiOiI1LjU1IiwicXNhIjoiNC43NiIsInFzcCI6IjMuODEifQ%3D%3D&sprefix=keyboar%2Caps%2C272&sr=8-19'},\n",
       " {'name': None,\n",
       "  'price': '699.',\n",
       "  'rating': '3.5 out of 5',\n",
       "  'delivery': 'Monday, 7 November',\n",
       "  'link': 'https://www.amazon.in//Zebronics-Zeb-Companion-107-Wireless-Keyboard/dp/B087FXHB6J/ref=sr_1_20?crid=309P6O4N3SM5C&keywords=keyboard&qid=1667665610&qu=eyJxc2MiOiI1LjU1IiwicXNhIjoiNC43NiIsInFzcCI6IjMuODEifQ%3D%3D&sprefix=keyboar%2Caps%2C272&sr=8-20'}]"
      ]
     },
     "execution_count": 19,
     "metadata": {},
     "output_type": "execute_result"
    }
   ],
   "source": [
    "data = []\n",
    "for link in productlinks:\n",
    "    f = requests.get(link, headers=headers).text\n",
    "    hun = BeautifulSoup(f,'html.parser')\n",
    "    try:\n",
    "        name = hun.find(\"span\",{\"class\":\"a-size-medium a-color-base a-text-normal\"}).text.replace('\\n',\"\")\n",
    "    except:\n",
    "        name = None\n",
    "    try:\n",
    "        price = hun.find(\"span\",{\"class\":\"a-price-whole\"}).text.replace('\\n',\"\")\n",
    "    except:\n",
    "        price = None\n",
    "    try:\n",
    "        rating = hun.find(\"span\",{\"class\":\"a-size-medium a-color-base\"}).text.replace('\\n',\"\")\n",
    "    except:\n",
    "        rating = None\n",
    "    try:\n",
    "        delivery = hun.find(\"span\",{\"class\":\"a-text-bold\"}).text.replace('\\n',\"\")\n",
    "    except:\n",
    "        delivery = None\n",
    "\n",
    "    item = {\"name\":name,\"price\":price,\"rating\":rating,\"delivery\":delivery,\"link\":link}\n",
    "    data.append(item)\n",
    "df = pd.DataFrame(data)\n",
    "df.to_csv('raw_data.csv', index=False)\n",
    "data"
   ]
  },
  {
   "cell_type": "code",
   "execution_count": 20,
   "id": "881887f1-a31a-4432-a2d7-c90abb128334",
   "metadata": {},
   "outputs": [
    {
     "name": "stdin",
     "output_type": "stream",
     "text": [
      "Choose Keyboard Number 3\n"
     ]
    },
    {
     "data": {
      "text/plain": [
       "True"
      ]
     },
     "execution_count": 20,
     "metadata": {},
     "output_type": "execute_result"
    }
   ],
   "source": [
    "choice = int(input(\"Choose Keyboard Number\"))\n",
    "ans = df.iloc[choice-1][\"link\"]\n",
    "webbrowser.open_new_tab(ans)"
   ]
  },
  {
   "cell_type": "code",
   "execution_count": null,
   "id": "02bffb50-2510-4d15-b235-dc979b1b0292",
   "metadata": {},
   "outputs": [],
   "source": []
  }
 ],
 "metadata": {
  "kernelspec": {
   "display_name": "Python 3 (ipykernel)",
   "language": "python",
   "name": "python3"
  },
  "language_info": {
   "codemirror_mode": {
    "name": "ipython",
    "version": 3
   },
   "file_extension": ".py",
   "mimetype": "text/x-python",
   "name": "python",
   "nbconvert_exporter": "python",
   "pygments_lexer": "ipython3",
   "version": "3.10.6"
  }
 },
 "nbformat": 4,
 "nbformat_minor": 5
}
